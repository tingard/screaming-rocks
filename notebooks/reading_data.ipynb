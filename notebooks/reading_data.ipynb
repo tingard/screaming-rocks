{
 "cells": [
  {
   "cell_type": "code",
   "execution_count": 1,
   "metadata": {},
   "outputs": [],
   "source": [
    "%load_ext autoreload\n",
    "%autoreload 2"
   ]
  },
  {
   "cell_type": "code",
   "execution_count": 2,
   "metadata": {},
   "outputs": [
    {
     "name": "stderr",
     "output_type": "stream",
     "text": [
      "/Users/tlingard/anaconda3/lib/python3.6/site-packages/dask/dataframe/utils.py:15: FutureWarning: pandas.util.testing is deprecated. Use the functions in the public API at pandas.testing instead.\n",
      "  import pandas.util.testing as tm\n"
     ]
    }
   ],
   "source": [
    "import os\n",
    "import numpy as np\n",
    "import pandas as pd\n",
    "import matplotlib.pyplot as plt\n",
    "import seaborn as sns\n",
    "from tqdm import tqdm, trange\n",
    "from screaming_rocks import RATE, SENSOR_IDS\n",
    "from screaming_rocks import dask_file_reading as dfr"
   ]
  },
  {
   "cell_type": "code",
   "execution_count": 3,
   "metadata": {},
   "outputs": [],
   "source": [
    "# Update this with the location to your own data\n",
    "data_folder = '/Volumes/data8pmb/EB2/SRM/'"
   ]
  },
  {
   "cell_type": "markdown",
   "metadata": {},
   "source": [
    "We can eaily read small amounts of data as numpy arrays - here we read one second of data from the Sensor with ID 90414, starting at minute 25"
   ]
  },
  {
   "cell_type": "code",
   "execution_count": 4,
   "metadata": {},
   "outputs": [
    {
     "name": "stdout",
     "output_type": "stream",
     "text": [
      "[[33531 32771 32599 32756]\n",
      " [33529 32757 32602 32789]\n",
      " [33530 32710 32705 32794]\n",
      " ...\n",
      " [33515 32853 32857 32756]\n",
      " [33534 32851 32842 32694]\n",
      " [33494 32898 32754 32694]]\n"
     ]
    }
   ],
   "source": [
    "print(dfr.read_batch(90414, 25 * 60, 1, data_folder=data_folder))"
   ]
  },
  {
   "cell_type": "markdown",
   "metadata": {},
   "source": [
    "We can also read this in as a Pandas DataFrame, with correct time series indexing and columns"
   ]
  },
  {
   "cell_type": "code",
   "execution_count": 5,
   "metadata": {},
   "outputs": [
    {
     "data": {
      "text/html": [
       "<div>\n",
       "<style scoped>\n",
       "    .dataframe tbody tr th:only-of-type {\n",
       "        vertical-align: middle;\n",
       "    }\n",
       "\n",
       "    .dataframe tbody tr th {\n",
       "        vertical-align: top;\n",
       "    }\n",
       "\n",
       "    .dataframe thead tr th {\n",
       "        text-align: left;\n",
       "    }\n",
       "</style>\n",
       "<table border=\"1\" class=\"dataframe\">\n",
       "  <thead>\n",
       "    <tr>\n",
       "      <th></th>\n",
       "      <th colspan=\"4\" halign=\"left\">90414</th>\n",
       "    </tr>\n",
       "    <tr>\n",
       "      <th></th>\n",
       "      <th>0</th>\n",
       "      <th>1</th>\n",
       "      <th>2</th>\n",
       "      <th>3</th>\n",
       "    </tr>\n",
       "  </thead>\n",
       "  <tbody>\n",
       "    <tr>\n",
       "      <th>00:25:00</th>\n",
       "      <td>33531</td>\n",
       "      <td>32771</td>\n",
       "      <td>32599</td>\n",
       "      <td>32756</td>\n",
       "    </tr>\n",
       "    <tr>\n",
       "      <th>00:25:00.000000</th>\n",
       "      <td>33529</td>\n",
       "      <td>32757</td>\n",
       "      <td>32602</td>\n",
       "      <td>32789</td>\n",
       "    </tr>\n",
       "    <tr>\n",
       "      <th>00:25:00.000000</th>\n",
       "      <td>33530</td>\n",
       "      <td>32710</td>\n",
       "      <td>32705</td>\n",
       "      <td>32794</td>\n",
       "    </tr>\n",
       "    <tr>\n",
       "      <th>00:25:00.000000</th>\n",
       "      <td>33552</td>\n",
       "      <td>32675</td>\n",
       "      <td>32796</td>\n",
       "      <td>32820</td>\n",
       "    </tr>\n",
       "    <tr>\n",
       "      <th>00:25:00.000000</th>\n",
       "      <td>33491</td>\n",
       "      <td>32746</td>\n",
       "      <td>32823</td>\n",
       "      <td>32817</td>\n",
       "    </tr>\n",
       "    <tr>\n",
       "      <th>...</th>\n",
       "      <td>...</td>\n",
       "      <td>...</td>\n",
       "      <td>...</td>\n",
       "      <td>...</td>\n",
       "    </tr>\n",
       "    <tr>\n",
       "      <th>00:25:00.999999</th>\n",
       "      <td>33482</td>\n",
       "      <td>32834</td>\n",
       "      <td>32897</td>\n",
       "      <td>32737</td>\n",
       "    </tr>\n",
       "    <tr>\n",
       "      <th>00:25:00.999999</th>\n",
       "      <td>33513</td>\n",
       "      <td>32869</td>\n",
       "      <td>32829</td>\n",
       "      <td>32731</td>\n",
       "    </tr>\n",
       "    <tr>\n",
       "      <th>00:25:00.999999</th>\n",
       "      <td>33515</td>\n",
       "      <td>32853</td>\n",
       "      <td>32857</td>\n",
       "      <td>32756</td>\n",
       "    </tr>\n",
       "    <tr>\n",
       "      <th>00:25:00.999999</th>\n",
       "      <td>33534</td>\n",
       "      <td>32851</td>\n",
       "      <td>32842</td>\n",
       "      <td>32694</td>\n",
       "    </tr>\n",
       "    <tr>\n",
       "      <th>00:25:00.999999</th>\n",
       "      <td>33494</td>\n",
       "      <td>32898</td>\n",
       "      <td>32754</td>\n",
       "      <td>32694</td>\n",
       "    </tr>\n",
       "  </tbody>\n",
       "</table>\n",
       "<p>10000000 rows × 4 columns</p>\n",
       "</div>"
      ],
      "text/plain": [
       "                 90414                     \n",
       "                     0      1      2      3\n",
       "00:25:00         33531  32771  32599  32756\n",
       "00:25:00.000000  33529  32757  32602  32789\n",
       "00:25:00.000000  33530  32710  32705  32794\n",
       "00:25:00.000000  33552  32675  32796  32820\n",
       "00:25:00.000000  33491  32746  32823  32817\n",
       "...                ...    ...    ...    ...\n",
       "00:25:00.999999  33482  32834  32897  32737\n",
       "00:25:00.999999  33513  32869  32829  32731\n",
       "00:25:00.999999  33515  32853  32857  32756\n",
       "00:25:00.999999  33534  32851  32842  32694\n",
       "00:25:00.999999  33494  32898  32754  32694\n",
       "\n",
       "[10000000 rows x 4 columns]"
      ]
     },
     "execution_count": 5,
     "metadata": {},
     "output_type": "execute_result"
    }
   ],
   "source": [
    "dfr.read_batch_as_pandas(90414, 25 * 60, 1, data_folder=data_folder)"
   ]
  },
  {
   "cell_type": "markdown",
   "metadata": {},
   "source": [
    "If we want to read more data, we need to use Dask to handle out-of-memory computation, which is made easy using `dfr.read_as_dask`.\n",
    "\n",
    "I.e. if we want to read two minutes of data, starting at minute 20 (reading 8GB worth of files, batching into pandas DataFrames of one second):"
   ]
  },
  {
   "cell_type": "code",
   "execution_count": 6,
   "metadata": {},
   "outputs": [
    {
     "data": {
      "text/html": [
       "<div><strong>Dask DataFrame Structure:</strong></div>\n",
       "<div>\n",
       "<style scoped>\n",
       "    .dataframe tbody tr th:only-of-type {\n",
       "        vertical-align: middle;\n",
       "    }\n",
       "\n",
       "    .dataframe tbody tr th {\n",
       "        vertical-align: top;\n",
       "    }\n",
       "\n",
       "    .dataframe thead tr th {\n",
       "        text-align: left;\n",
       "    }\n",
       "\n",
       "    .dataframe thead tr:last-of-type th {\n",
       "        text-align: right;\n",
       "    }\n",
       "</style>\n",
       "<table border=\"1\" class=\"dataframe\">\n",
       "  <thead>\n",
       "    <tr>\n",
       "      <th></th>\n",
       "      <th colspan=\"4\" halign=\"left\">90414</th>\n",
       "    </tr>\n",
       "    <tr>\n",
       "      <th></th>\n",
       "      <th>0</th>\n",
       "      <th>1</th>\n",
       "      <th>2</th>\n",
       "      <th>3</th>\n",
       "    </tr>\n",
       "    <tr>\n",
       "      <th>npartitions=60</th>\n",
       "      <th></th>\n",
       "      <th></th>\n",
       "      <th></th>\n",
       "      <th></th>\n",
       "    </tr>\n",
       "  </thead>\n",
       "  <tbody>\n",
       "    <tr>\n",
       "      <th></th>\n",
       "      <td>uint16</td>\n",
       "      <td>uint16</td>\n",
       "      <td>uint16</td>\n",
       "      <td>uint16</td>\n",
       "    </tr>\n",
       "    <tr>\n",
       "      <th></th>\n",
       "      <td>...</td>\n",
       "      <td>...</td>\n",
       "      <td>...</td>\n",
       "      <td>...</td>\n",
       "    </tr>\n",
       "    <tr>\n",
       "      <th>...</th>\n",
       "      <td>...</td>\n",
       "      <td>...</td>\n",
       "      <td>...</td>\n",
       "      <td>...</td>\n",
       "    </tr>\n",
       "    <tr>\n",
       "      <th></th>\n",
       "      <td>...</td>\n",
       "      <td>...</td>\n",
       "      <td>...</td>\n",
       "      <td>...</td>\n",
       "    </tr>\n",
       "    <tr>\n",
       "      <th></th>\n",
       "      <td>...</td>\n",
       "      <td>...</td>\n",
       "      <td>...</td>\n",
       "      <td>...</td>\n",
       "    </tr>\n",
       "  </tbody>\n",
       "</table>\n",
       "</div>\n",
       "<div>Dask Name: from-delayed, 120 tasks</div>"
      ],
      "text/plain": [
       "Dask DataFrame Structure:\n",
       "                 90414                        \n",
       "                     0       1       2       3\n",
       "npartitions=60                                \n",
       "                uint16  uint16  uint16  uint16\n",
       "                   ...     ...     ...     ...\n",
       "...                ...     ...     ...     ...\n",
       "                   ...     ...     ...     ...\n",
       "                   ...     ...     ...     ...\n",
       "Dask Name: from-delayed, 120 tasks"
      ]
     },
     "execution_count": 6,
     "metadata": {},
     "output_type": "execute_result"
    }
   ],
   "source": [
    "dfr.read_as_dask(90414, 20 * 60, 2 * 60, batch_size=2, data_folder=data_folder)"
   ]
  },
  {
   "cell_type": "markdown",
   "metadata": {},
   "source": [
    "We then can execute lazy computations on this data (warning, this takes a LONG time):"
   ]
  },
  {
   "cell_type": "code",
   "execution_count": 7,
   "metadata": {},
   "outputs": [],
   "source": [
    "# dfr.read_as_dask(90414, 20 * 60, 2 * 60, batch_size=2, data_folder=data_folder).mean(axis=1).compute()"
   ]
  }
 ],
 "metadata": {
  "kernelspec": {
   "display_name": "Python 3",
   "language": "python",
   "name": "python3"
  },
  "language_info": {
   "codemirror_mode": {
    "name": "ipython",
    "version": 3
   },
   "file_extension": ".py",
   "mimetype": "text/x-python",
   "name": "python",
   "nbconvert_exporter": "python",
   "pygments_lexer": "ipython3",
   "version": "3.6.7"
  }
 },
 "nbformat": 4,
 "nbformat_minor": 4
}
